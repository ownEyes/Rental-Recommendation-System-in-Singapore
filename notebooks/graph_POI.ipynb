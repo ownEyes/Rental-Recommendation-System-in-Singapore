{
 "cells": [
  {
   "cell_type": "code",
   "execution_count": null,
   "metadata": {},
   "outputs": [],
   "source": [
    "import pandas as pd\n",
    "import numpy as np\n"
   ]
  },
  {
   "cell_type": "code",
   "execution_count": null,
   "metadata": {},
   "outputs": [],
   "source": [
    "import folium\n",
    "import time \n",
    "\n",
    "# 输入经纬度坐标\n",
    "start_time = time.time()\n",
    "latitude = 37.7749\n",
    "longitude = -122.4194\n",
    "\n",
    "# 创建地图对象\n",
    "m = folium.Map(location=[latitude, longitude], zoom_start=15)\n",
    "\n",
    "# 添加标注\n",
    "folium.Marker([latitude, longitude], tooltip='Your Location').add_to(m)\n",
    "\n",
    "# 保存地图为 HTML 文件\n",
    "m.save('map_with_marker.html')\n",
    "end_time = time.time()\n",
    "elapsed_time = end_time - start_time\n",
    "print(f\"process time：{elapsed_time:.4f} seconds\")"
   ]
  },
  {
   "cell_type": "code",
   "execution_count": null,
   "metadata": {},
   "outputs": [],
   "source": [
    "import folium\n",
    "import pandas as pd\n",
    "import numpy as np\n",
    "\n"
   ]
  }
 ],
 "metadata": {
  "kernelspec": {
   "display_name": "gp",
   "language": "python",
   "name": "python3"
  },
  "language_info": {
   "name": "python",
   "version": "3.11.5"
  }
 },
 "nbformat": 4,
 "nbformat_minor": 2
}
