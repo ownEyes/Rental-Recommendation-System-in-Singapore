{
 "cells": [
  {
   "cell_type": "markdown",
   "source": [
    "一个无聊的测试：用随机森林看一下什么特征对price的贡献最大"
   ],
   "metadata": {
    "collapsed": false
   },
   "id": "ae69a199f8c703d3"
  },
  {
   "cell_type": "code",
   "execution_count": 1,
   "outputs": [
    {
     "name": "stdout",
     "output_type": "stream",
     "text": [
      "                  Feature  Importance\n",
      "3   closest_mall_distance    0.450548\n",
      "2         distance_to_mrt    0.176417\n",
      "1          maximum_months    0.088375\n",
      "17                  stove    0.048059\n",
      "6                     gym    0.029090\n",
      "12                     TV    0.027015\n",
      "7                    pool    0.026324\n",
      "10                kitchen    0.026132\n",
      "5                     BBQ    0.026105\n",
      "11               Backyard    0.019612\n",
      "0          minimum_months    0.019260\n",
      "13           refrigerator    0.012250\n",
      "15                   Oven    0.011824\n",
      "14              Microwave    0.010230\n",
      "16                   Pets    0.010024\n",
      "4            conditioning    0.009412\n",
      "9                    Wifi    0.003522\n",
      "8                   dryer    0.003393\n",
      "18                    fan    0.002409\n"
     ]
    }
   ],
   "source": [
    "import pandas as pd\n",
    "from sklearn.ensemble import RandomForestRegressor\n",
    "data = pd.read_csv('processed_data_merged.csv')\n",
    "data = data.select_dtypes(include=['float64', 'int64'])\n",
    "\n",
    "X = data.drop(['price','id','latitude','longitude'], axis=1)\n",
    "y = data['price']\n",
    "\n",
    "# 创建随机森林模型\n",
    "model = RandomForestRegressor(n_estimators=100)\n",
    "model.fit(X, y)\n",
    "\n",
    "# 输出特征重要性\n",
    "feature_importance = pd.DataFrame({\n",
    "    'Feature': X.columns,\n",
    "    'Importance': model.feature_importances_\n",
    "}).sort_values(by='Importance', ascending=False)\n",
    "\n",
    "print(feature_importance)"
   ],
   "metadata": {
    "collapsed": false,
    "ExecuteTime": {
     "end_time": "2023-10-17T07:43:21.524372Z",
     "start_time": "2023-10-17T07:43:18.951685Z"
    }
   },
   "id": "e46eb2bf0169dd6d"
  },
  {
   "cell_type": "markdown",
   "source": [
    "这是全部原始数据塞进去直接计算，相似度全都是0.9999服了"
   ],
   "metadata": {
    "collapsed": false
   },
   "id": "83d5f1b01356293a"
  },
  {
   "cell_type": "code",
   "execution_count": 87,
   "outputs": [
    {
     "data": {
      "text/plain": "                      id neighbourhood_cleansed neighbourhood_group_cleansed  \\\n1767            42910492              Serangoon            North-East Region   \n1760            42829911              Serangoon            North-East Region   \n1311            35744548              Serangoon            North-East Region   \n3366  899732642408799379              Serangoon            North-East Region   \n607             19490734             Ang Mo Kio            North-East Region   \n2256            53280269              Serangoon            North-East Region   \n876             25282863              Serangoon            North-East Region   \n339             12738896             Ang Mo Kio            North-East Region   \n381             14131949              Serangoon            North-East Region   \n12                468782              Serangoon            North-East Region   \n\n      latitude   longitude  price  minimum_months  maximum_months  \\\n1767  1.355820  103.864050   1800               3              37   \n1760  1.355600  103.863760   1800               3              37   \n1311  1.357310  103.863810   1800               3              37   \n3366  1.383397  103.861367   2250               3               5   \n607   1.368000  103.856880   1470               6              37   \n2256  1.356000  103.864370   3000               3              12   \n876   1.381430  103.869840   2400               3              37   \n339   1.367410  103.852850   2370               6              37   \n381   1.364640  103.863520   4440               3              37   \n12    1.362880  103.865750   1410               3               6   \n\n      distance_to_mrt          closest_mrt_name  ... Oven  Pets stove fan  \\\n1767         0.468027  LORONG CHUAN MRT STATION  ...    1     1     1   0   \n1760         0.445562  LORONG CHUAN MRT STATION  ...    1     1     1   0   \n1311         0.634710  LORONG CHUAN MRT STATION  ...    1     1     1   0   \n3366         1.834320  YIO CHU KANG MRT STATION  ...    1     0     1   1   \n607          0.786649    ANG MO KIO MRT STATION  ...    0     1     0   0   \n2256         0.488507  LORONG CHUAN MRT STATION  ...    1     1     1   1   \n876          1.367039      FERNVALE LRT STATION  ...    0     0     0   0   \n339          0.389297    ANG MO KIO MRT STATION  ...    0     0     0   0   \n381          1.450333  LORONG CHUAN MRT STATION  ...    1     0     1   0   \n12           1.265459  LORONG CHUAN MRT STATION  ...    0     0     0   0   \n\n      room_type_Entire home/apt  room_type_Hotel room  room_type_Private room  \\\n1767                          0                     0                       1   \n1760                          0                     0                       1   \n1311                          0                     0                       1   \n3366                          0                     0                       1   \n607                           0                     0                       1   \n2256                          0                     0                       1   \n876                           0                     0                       1   \n339                           0                     0                       1   \n381                           0                     0                       1   \n12                            0                     0                       1   \n\n      room_type_Shared room  distance  similarity_score  \n1767                      0  0.807462          0.999999  \n1760                      0  0.839181          0.999999  \n1311                      0  0.655827          0.999999  \n3366                      0  2.332882          0.999999  \n607                       0  1.138576          0.999999  \n2256                      0  0.780250          0.999999  \n876                       0  2.112180          0.999999  \n339                       0  1.519903          0.999999  \n381                       0  0.315834          0.999999  \n12                        0  0.000000          0.999999  \n\n[10 rows x 35 columns]",
      "text/html": "<div>\n<style scoped>\n    .dataframe tbody tr th:only-of-type {\n        vertical-align: middle;\n    }\n\n    .dataframe tbody tr th {\n        vertical-align: top;\n    }\n\n    .dataframe thead th {\n        text-align: right;\n    }\n</style>\n<table border=\"1\" class=\"dataframe\">\n  <thead>\n    <tr style=\"text-align: right;\">\n      <th></th>\n      <th>id</th>\n      <th>neighbourhood_cleansed</th>\n      <th>neighbourhood_group_cleansed</th>\n      <th>latitude</th>\n      <th>longitude</th>\n      <th>price</th>\n      <th>minimum_months</th>\n      <th>maximum_months</th>\n      <th>distance_to_mrt</th>\n      <th>closest_mrt_name</th>\n      <th>...</th>\n      <th>Oven</th>\n      <th>Pets</th>\n      <th>stove</th>\n      <th>fan</th>\n      <th>room_type_Entire home/apt</th>\n      <th>room_type_Hotel room</th>\n      <th>room_type_Private room</th>\n      <th>room_type_Shared room</th>\n      <th>distance</th>\n      <th>similarity_score</th>\n    </tr>\n  </thead>\n  <tbody>\n    <tr>\n      <th>1767</th>\n      <td>42910492</td>\n      <td>Serangoon</td>\n      <td>North-East Region</td>\n      <td>1.355820</td>\n      <td>103.864050</td>\n      <td>1800</td>\n      <td>3</td>\n      <td>37</td>\n      <td>0.468027</td>\n      <td>LORONG CHUAN MRT STATION</td>\n      <td>...</td>\n      <td>1</td>\n      <td>1</td>\n      <td>1</td>\n      <td>0</td>\n      <td>0</td>\n      <td>0</td>\n      <td>1</td>\n      <td>0</td>\n      <td>0.807462</td>\n      <td>0.999999</td>\n    </tr>\n    <tr>\n      <th>1760</th>\n      <td>42829911</td>\n      <td>Serangoon</td>\n      <td>North-East Region</td>\n      <td>1.355600</td>\n      <td>103.863760</td>\n      <td>1800</td>\n      <td>3</td>\n      <td>37</td>\n      <td>0.445562</td>\n      <td>LORONG CHUAN MRT STATION</td>\n      <td>...</td>\n      <td>1</td>\n      <td>1</td>\n      <td>1</td>\n      <td>0</td>\n      <td>0</td>\n      <td>0</td>\n      <td>1</td>\n      <td>0</td>\n      <td>0.839181</td>\n      <td>0.999999</td>\n    </tr>\n    <tr>\n      <th>1311</th>\n      <td>35744548</td>\n      <td>Serangoon</td>\n      <td>North-East Region</td>\n      <td>1.357310</td>\n      <td>103.863810</td>\n      <td>1800</td>\n      <td>3</td>\n      <td>37</td>\n      <td>0.634710</td>\n      <td>LORONG CHUAN MRT STATION</td>\n      <td>...</td>\n      <td>1</td>\n      <td>1</td>\n      <td>1</td>\n      <td>0</td>\n      <td>0</td>\n      <td>0</td>\n      <td>1</td>\n      <td>0</td>\n      <td>0.655827</td>\n      <td>0.999999</td>\n    </tr>\n    <tr>\n      <th>3366</th>\n      <td>899732642408799379</td>\n      <td>Serangoon</td>\n      <td>North-East Region</td>\n      <td>1.383397</td>\n      <td>103.861367</td>\n      <td>2250</td>\n      <td>3</td>\n      <td>5</td>\n      <td>1.834320</td>\n      <td>YIO CHU KANG MRT STATION</td>\n      <td>...</td>\n      <td>1</td>\n      <td>0</td>\n      <td>1</td>\n      <td>1</td>\n      <td>0</td>\n      <td>0</td>\n      <td>1</td>\n      <td>0</td>\n      <td>2.332882</td>\n      <td>0.999999</td>\n    </tr>\n    <tr>\n      <th>607</th>\n      <td>19490734</td>\n      <td>Ang Mo Kio</td>\n      <td>North-East Region</td>\n      <td>1.368000</td>\n      <td>103.856880</td>\n      <td>1470</td>\n      <td>6</td>\n      <td>37</td>\n      <td>0.786649</td>\n      <td>ANG MO KIO MRT STATION</td>\n      <td>...</td>\n      <td>0</td>\n      <td>1</td>\n      <td>0</td>\n      <td>0</td>\n      <td>0</td>\n      <td>0</td>\n      <td>1</td>\n      <td>0</td>\n      <td>1.138576</td>\n      <td>0.999999</td>\n    </tr>\n    <tr>\n      <th>2256</th>\n      <td>53280269</td>\n      <td>Serangoon</td>\n      <td>North-East Region</td>\n      <td>1.356000</td>\n      <td>103.864370</td>\n      <td>3000</td>\n      <td>3</td>\n      <td>12</td>\n      <td>0.488507</td>\n      <td>LORONG CHUAN MRT STATION</td>\n      <td>...</td>\n      <td>1</td>\n      <td>1</td>\n      <td>1</td>\n      <td>1</td>\n      <td>0</td>\n      <td>0</td>\n      <td>1</td>\n      <td>0</td>\n      <td>0.780250</td>\n      <td>0.999999</td>\n    </tr>\n    <tr>\n      <th>876</th>\n      <td>25282863</td>\n      <td>Serangoon</td>\n      <td>North-East Region</td>\n      <td>1.381430</td>\n      <td>103.869840</td>\n      <td>2400</td>\n      <td>3</td>\n      <td>37</td>\n      <td>1.367039</td>\n      <td>FERNVALE LRT STATION</td>\n      <td>...</td>\n      <td>0</td>\n      <td>0</td>\n      <td>0</td>\n      <td>0</td>\n      <td>0</td>\n      <td>0</td>\n      <td>1</td>\n      <td>0</td>\n      <td>2.112180</td>\n      <td>0.999999</td>\n    </tr>\n    <tr>\n      <th>339</th>\n      <td>12738896</td>\n      <td>Ang Mo Kio</td>\n      <td>North-East Region</td>\n      <td>1.367410</td>\n      <td>103.852850</td>\n      <td>2370</td>\n      <td>6</td>\n      <td>37</td>\n      <td>0.389297</td>\n      <td>ANG MO KIO MRT STATION</td>\n      <td>...</td>\n      <td>0</td>\n      <td>0</td>\n      <td>0</td>\n      <td>0</td>\n      <td>0</td>\n      <td>0</td>\n      <td>1</td>\n      <td>0</td>\n      <td>1.519903</td>\n      <td>0.999999</td>\n    </tr>\n    <tr>\n      <th>381</th>\n      <td>14131949</td>\n      <td>Serangoon</td>\n      <td>North-East Region</td>\n      <td>1.364640</td>\n      <td>103.863520</td>\n      <td>4440</td>\n      <td>3</td>\n      <td>37</td>\n      <td>1.450333</td>\n      <td>LORONG CHUAN MRT STATION</td>\n      <td>...</td>\n      <td>1</td>\n      <td>0</td>\n      <td>1</td>\n      <td>0</td>\n      <td>0</td>\n      <td>0</td>\n      <td>1</td>\n      <td>0</td>\n      <td>0.315834</td>\n      <td>0.999999</td>\n    </tr>\n    <tr>\n      <th>12</th>\n      <td>468782</td>\n      <td>Serangoon</td>\n      <td>North-East Region</td>\n      <td>1.362880</td>\n      <td>103.865750</td>\n      <td>1410</td>\n      <td>3</td>\n      <td>6</td>\n      <td>1.265459</td>\n      <td>LORONG CHUAN MRT STATION</td>\n      <td>...</td>\n      <td>0</td>\n      <td>0</td>\n      <td>0</td>\n      <td>0</td>\n      <td>0</td>\n      <td>0</td>\n      <td>1</td>\n      <td>0</td>\n      <td>0.000000</td>\n      <td>0.999999</td>\n    </tr>\n  </tbody>\n</table>\n<p>10 rows × 35 columns</p>\n</div>"
     },
     "execution_count": 87,
     "metadata": {},
     "output_type": "execute_result"
    }
   ],
   "source": [
    "import numpy as np\n",
    "import pandas as pd\n",
    "from sklearn.metrics.pairwise import cosine_similarity\n",
    "\n",
    "# 用户设定\n",
    "desired_price = 1400\n",
    "desired_roomtype = \"Private room\"\n",
    "desired_month = 12\n",
    "desired_latitude = 1.36288\n",
    "desired_longitude = 103.86575\n",
    "data = pd.read_csv('processed_data_modified.csv')\n",
    "user_amenities_input = [0, 1, 0, 0, 1, 1, 1, 1, 1, 1, 0, 0, 0, 0, 0]\n",
    "\n",
    "# 设定的权重\n",
    "weights = {\n",
    "    'price': 0.5,\n",
    "    'room_type': 0.1,\n",
    "    'distance': 0.2,\n",
    "    'amenities': 0.2  \n",
    "}\n",
    "\n",
    "# 计算距离\n",
    "def haversine_distance(lat1, lon1, lat2, lon2):\n",
    "    R = 6371  # 地球半径，单位为公里\n",
    "    dlat = np.radians(lat2 - lat1)\n",
    "    dlon = np.radians(lon2 - lon1)\n",
    "    a = np.sin(dlat/2) * np.sin(dlat/2) + np.cos(np.radians(lat1)) * np.cos(np.radians(lat2)) * np.sin(dlon/2) * np.sin(dlon/2)\n",
    "    c = 2 * np.arctan2(np.sqrt(a), np.sqrt(1-a))\n",
    "    d = R * c\n",
    "    return d\n",
    "\n",
    "data['distance'] = data.apply(lambda row: haversine_distance(desired_latitude, desired_longitude, row['latitude'], row['longitude']), axis=1)\n",
    "\n",
    "# 数据集中的amenities列\n",
    "amenities_columns = ['conditioning', 'BBQ', 'gym', 'pool', 'dryer', 'Wifi', 'kitchen', 'Backyard', 'TV', 'refrigerator', 'Microwave', 'Oven', 'Pets', 'stove', 'fan']\n",
    "\n",
    "# 选择对应的roomtype列\n",
    "roomtype_col = \"room_type_\" + desired_roomtype\n",
    "\n",
    "# 选择对应的amenities列\n",
    "selected_amenities = [amenities_columns[i] for i, val in enumerate(user_amenities_input) if val == 1]\n",
    "vector_cols = selected_amenities + ['distance', 'price', roomtype_col]\n",
    "\n",
    "# 创建user_vector\n",
    "user_vector = np.array([1] * len(selected_amenities) + [0, desired_price, 1])\n",
    "data_vector = data[vector_cols].values\n",
    "\n",
    "# 计算余弦相似度\n",
    "similarities = cosine_similarity(user_vector.reshape(1, -1), data_vector)\n",
    "\n",
    "# 获取得分最高的Top 10房源\n",
    "data['similarity_score'] = similarities[0]\n",
    "top_10 = data.nlargest(10, 'similarity_score')\n",
    "top_10"
   ],
   "metadata": {
    "collapsed": false,
    "ExecuteTime": {
     "end_time": "2023-10-18T06:04:35.980745Z",
     "start_time": "2023-10-18T06:04:35.866176Z"
    }
   },
   "id": "3be7a5dc4bf72318"
  },
  {
   "cell_type": "markdown",
   "source": [
    "这块不要管了，我脑洞大开乱想的"
   ],
   "metadata": {
    "collapsed": false
   },
   "id": "60dcda1f24453521"
  },
  {
   "cell_type": "code",
   "execution_count": null,
   "outputs": [],
   "source": [
    "# 修改amenities\n",
    "for col in amenities_columns:\n",
    "    data[col] = data[col] * 1000\n",
    "\n",
    "# 修改distance\n",
    "data['distance'] = data['distance'] * 1000"
   ],
   "metadata": {
    "collapsed": false
   },
   "id": "44eb53f233232390"
  },
  {
   "cell_type": "markdown",
   "source": [
    "以下是先对向量里的特征先加权再特征缩放，结果看起来是最最合理的\n",
    "如果说还有待改进的话：\n",
    "1.价格惩罚项我设置的是价格大于1/2小于2倍，由于我们的输入是minprice和maxprice，可以把这个区间以外的都设置为惩罚项，缺点就是数据集会不会太少导致推荐结果不够\n",
    "2.距离惩罚项随手设置的5km\n",
    "3.……不知道了要崩溃了这个结果还行了555"
   ],
   "metadata": {
    "collapsed": false
   },
   "id": "9e94e015ad603ba5"
  },
  {
   "cell_type": "code",
   "execution_count": 107,
   "outputs": [
    {
     "data": {
      "text/plain": "                      id  price  distance  room_type_Private room  BBQ  dryer  \\\n3366  899732642408799379   2250  2.332882                       1    1      1   \n95               4712676   1650  3.055456                       1    1      1   \n1797            43177325   1350  4.633893                       1    1      1   \n1117            32205289   1200  3.559773                       1    1      1   \n58               2156372   1800  3.578798                       1    0      1   \n1364            36989732   1500  3.798745                       1    0      1   \n1698            41926070   2460  4.634836                       1    0      1   \n33                982909   2550  4.735840                       1    1      1   \n2598  678746686572598499   2100  2.919098                       1    1      1   \n147              6620261   2730  4.546571                       0    1      1   \n\n      Wifi  kitchen  Backyard  TV  refrigerator  similarity_score  \n3366     1        1         1   0             1          0.863189  \n95       1        0         1   1             1          0.849640  \n1797     1        1         1   1             0          0.841723  \n1117     1        0         1   1             1          0.839036  \n58       1        1         1   1             1          0.772226  \n1364     1        1         1   1             1          0.766886  \n1698     1        1         1   1             1          0.742751  \n33       1        1         0   1             1          0.716797  \n2598     1        1         0   1             0          0.641719  \n147      1        1         0   1             1          0.589220  ",
      "text/html": "<div>\n<style scoped>\n    .dataframe tbody tr th:only-of-type {\n        vertical-align: middle;\n    }\n\n    .dataframe tbody tr th {\n        vertical-align: top;\n    }\n\n    .dataframe thead th {\n        text-align: right;\n    }\n</style>\n<table border=\"1\" class=\"dataframe\">\n  <thead>\n    <tr style=\"text-align: right;\">\n      <th></th>\n      <th>id</th>\n      <th>price</th>\n      <th>distance</th>\n      <th>room_type_Private room</th>\n      <th>BBQ</th>\n      <th>dryer</th>\n      <th>Wifi</th>\n      <th>kitchen</th>\n      <th>Backyard</th>\n      <th>TV</th>\n      <th>refrigerator</th>\n      <th>similarity_score</th>\n    </tr>\n  </thead>\n  <tbody>\n    <tr>\n      <th>3366</th>\n      <td>899732642408799379</td>\n      <td>2250</td>\n      <td>2.332882</td>\n      <td>1</td>\n      <td>1</td>\n      <td>1</td>\n      <td>1</td>\n      <td>1</td>\n      <td>1</td>\n      <td>0</td>\n      <td>1</td>\n      <td>0.863189</td>\n    </tr>\n    <tr>\n      <th>95</th>\n      <td>4712676</td>\n      <td>1650</td>\n      <td>3.055456</td>\n      <td>1</td>\n      <td>1</td>\n      <td>1</td>\n      <td>1</td>\n      <td>0</td>\n      <td>1</td>\n      <td>1</td>\n      <td>1</td>\n      <td>0.849640</td>\n    </tr>\n    <tr>\n      <th>1797</th>\n      <td>43177325</td>\n      <td>1350</td>\n      <td>4.633893</td>\n      <td>1</td>\n      <td>1</td>\n      <td>1</td>\n      <td>1</td>\n      <td>1</td>\n      <td>1</td>\n      <td>1</td>\n      <td>0</td>\n      <td>0.841723</td>\n    </tr>\n    <tr>\n      <th>1117</th>\n      <td>32205289</td>\n      <td>1200</td>\n      <td>3.559773</td>\n      <td>1</td>\n      <td>1</td>\n      <td>1</td>\n      <td>1</td>\n      <td>0</td>\n      <td>1</td>\n      <td>1</td>\n      <td>1</td>\n      <td>0.839036</td>\n    </tr>\n    <tr>\n      <th>58</th>\n      <td>2156372</td>\n      <td>1800</td>\n      <td>3.578798</td>\n      <td>1</td>\n      <td>0</td>\n      <td>1</td>\n      <td>1</td>\n      <td>1</td>\n      <td>1</td>\n      <td>1</td>\n      <td>1</td>\n      <td>0.772226</td>\n    </tr>\n    <tr>\n      <th>1364</th>\n      <td>36989732</td>\n      <td>1500</td>\n      <td>3.798745</td>\n      <td>1</td>\n      <td>0</td>\n      <td>1</td>\n      <td>1</td>\n      <td>1</td>\n      <td>1</td>\n      <td>1</td>\n      <td>1</td>\n      <td>0.766886</td>\n    </tr>\n    <tr>\n      <th>1698</th>\n      <td>41926070</td>\n      <td>2460</td>\n      <td>4.634836</td>\n      <td>1</td>\n      <td>0</td>\n      <td>1</td>\n      <td>1</td>\n      <td>1</td>\n      <td>1</td>\n      <td>1</td>\n      <td>1</td>\n      <td>0.742751</td>\n    </tr>\n    <tr>\n      <th>33</th>\n      <td>982909</td>\n      <td>2550</td>\n      <td>4.735840</td>\n      <td>1</td>\n      <td>1</td>\n      <td>1</td>\n      <td>1</td>\n      <td>1</td>\n      <td>0</td>\n      <td>1</td>\n      <td>1</td>\n      <td>0.716797</td>\n    </tr>\n    <tr>\n      <th>2598</th>\n      <td>678746686572598499</td>\n      <td>2100</td>\n      <td>2.919098</td>\n      <td>1</td>\n      <td>1</td>\n      <td>1</td>\n      <td>1</td>\n      <td>1</td>\n      <td>0</td>\n      <td>1</td>\n      <td>0</td>\n      <td>0.641719</td>\n    </tr>\n    <tr>\n      <th>147</th>\n      <td>6620261</td>\n      <td>2730</td>\n      <td>4.546571</td>\n      <td>0</td>\n      <td>1</td>\n      <td>1</td>\n      <td>1</td>\n      <td>1</td>\n      <td>0</td>\n      <td>1</td>\n      <td>1</td>\n      <td>0.589220</td>\n    </tr>\n  </tbody>\n</table>\n</div>"
     },
     "execution_count": 107,
     "metadata": {},
     "output_type": "execute_result"
    }
   ],
   "source": [
    "from sklearn.preprocessing import StandardScaler\n",
    "\n",
    "# 权重设定\n",
    "amenity_weight = 1 - (weights['price'] + weights['room_type'] + weights['distance'])\n",
    "average_amenity_weight = amenity_weight / len(selected_amenities)\n",
    "\n",
    "weight_vector = [average_amenity_weight] * len(selected_amenities) + [weights['distance'], weights['price'], weights['room_type']]\n",
    "weight_vector = np.array(weight_vector)\n",
    "\n",
    "# 创建user_vector\n",
    "user_vector = np.array([1] * len(selected_amenities) + [0, desired_price, 1])\n",
    "\n",
    "# 加权用户和数据向量\n",
    "user_vector_weighted = user_vector * weight_vector\n",
    "data_vector = data[selected_amenities + ['distance', 'price', roomtype_col]].values\n",
    "data_vector_weighted = data_vector * weight_vector\n",
    "\n",
    "# 特征缩放\n",
    "scaler = StandardScaler()\n",
    "data_vector_scaled = scaler.fit_transform(data_vector_weighted)\n",
    "user_vector_scaled = scaler.transform([user_vector_weighted])\n",
    "\n",
    "# 计算价格偏差\n",
    "def price_penalty(row_price, desired_price):\n",
    "    if row_price < desired_price * 0.5 or row_price > desired_price * 2:\n",
    "        return 0.5  \n",
    "    return 1.0\n",
    "\n",
    "def distance_penalty(row_distance):\n",
    "    if row_distance > 5:\n",
    "        return 0.5  \n",
    "    return 1.0\n",
    "\n",
    "data['price_penalty'] = data['price'].apply(lambda x: price_penalty(x, desired_price))\n",
    "data['distance_penalty'] = data['distance'].apply(distance_penalty)\n",
    "\n",
    "# 计算相似度\n",
    "similarities = cosine_similarity(user_vector_scaled, data_vector_scaled)\n",
    "\n",
    "# 获取得分最高的Top 10房源\n",
    "data['similarity_score'] = similarities[0] * data['price_penalty'] * data['distance_penalty']\n",
    "top_10 = data.nlargest(10, 'similarity_score')\n",
    "\n",
    "columns_to_display = ['id', 'price', 'distance', roomtype_col] + selected_amenities + ['similarity_score']\n",
    "top_10[columns_to_display]"
   ],
   "metadata": {
    "collapsed": false,
    "ExecuteTime": {
     "end_time": "2023-10-18T06:24:07.630142Z",
     "start_time": "2023-10-18T06:24:07.592697Z"
    }
   },
   "id": "7946e94a2c934345"
  },
  {
   "cell_type": "markdown",
   "source": [
    "以下为对比实验！！！先特征缩放再加权的做法，结果很差"
   ],
   "metadata": {
    "collapsed": false
   },
   "id": "633039f0a04bf99"
  },
  {
   "cell_type": "code",
   "execution_count": 106,
   "outputs": [
    {
     "data": {
      "text/plain": "                      id  price  distance  room_type_Private room  BBQ  dryer  \\\n3366  899732642408799379   2250  2.332882                       1    1      1   \n1767            42910492   1800  0.807462                       1    0      1   \n1760            42829911   1800  0.839181                       1    0      1   \n95               4712676   1650  3.055456                       1    1      1   \n876             25282863   2400  2.112180                       1    0      1   \n58               2156372   1800  3.578798                       1    0      1   \n607             19490734   1470  1.138576                       1    0      1   \n2598  678746686572598499   2100  2.919098                       1    1      1   \n1311            35744548   1800  0.655827                       1    0      1   \n2831  775240664166599463   1530  2.820870                       1    0      1   \n\n      Wifi  kitchen  Backyard  TV  refrigerator  similarity_score  \n3366     1        1         1   0             1          0.985478  \n1767     1        1         0   1             1          0.980151  \n1760     1        1         0   1             1          0.980105  \n95       1        0         1   1             1          0.977541  \n876      1        1         0   1             1          0.976963  \n58       1        1         1   1             1          0.974216  \n607      1        1         0   1             0          0.973864  \n2598     1        1         0   1             0          0.973835  \n1311     1        1         0   0             1          0.973178  \n2831     1        1         0   1             1          0.972415  ",
      "text/html": "<div>\n<style scoped>\n    .dataframe tbody tr th:only-of-type {\n        vertical-align: middle;\n    }\n\n    .dataframe tbody tr th {\n        vertical-align: top;\n    }\n\n    .dataframe thead th {\n        text-align: right;\n    }\n</style>\n<table border=\"1\" class=\"dataframe\">\n  <thead>\n    <tr style=\"text-align: right;\">\n      <th></th>\n      <th>id</th>\n      <th>price</th>\n      <th>distance</th>\n      <th>room_type_Private room</th>\n      <th>BBQ</th>\n      <th>dryer</th>\n      <th>Wifi</th>\n      <th>kitchen</th>\n      <th>Backyard</th>\n      <th>TV</th>\n      <th>refrigerator</th>\n      <th>similarity_score</th>\n    </tr>\n  </thead>\n  <tbody>\n    <tr>\n      <th>3366</th>\n      <td>899732642408799379</td>\n      <td>2250</td>\n      <td>2.332882</td>\n      <td>1</td>\n      <td>1</td>\n      <td>1</td>\n      <td>1</td>\n      <td>1</td>\n      <td>1</td>\n      <td>0</td>\n      <td>1</td>\n      <td>0.985478</td>\n    </tr>\n    <tr>\n      <th>1767</th>\n      <td>42910492</td>\n      <td>1800</td>\n      <td>0.807462</td>\n      <td>1</td>\n      <td>0</td>\n      <td>1</td>\n      <td>1</td>\n      <td>1</td>\n      <td>0</td>\n      <td>1</td>\n      <td>1</td>\n      <td>0.980151</td>\n    </tr>\n    <tr>\n      <th>1760</th>\n      <td>42829911</td>\n      <td>1800</td>\n      <td>0.839181</td>\n      <td>1</td>\n      <td>0</td>\n      <td>1</td>\n      <td>1</td>\n      <td>1</td>\n      <td>0</td>\n      <td>1</td>\n      <td>1</td>\n      <td>0.980105</td>\n    </tr>\n    <tr>\n      <th>95</th>\n      <td>4712676</td>\n      <td>1650</td>\n      <td>3.055456</td>\n      <td>1</td>\n      <td>1</td>\n      <td>1</td>\n      <td>1</td>\n      <td>0</td>\n      <td>1</td>\n      <td>1</td>\n      <td>1</td>\n      <td>0.977541</td>\n    </tr>\n    <tr>\n      <th>876</th>\n      <td>25282863</td>\n      <td>2400</td>\n      <td>2.112180</td>\n      <td>1</td>\n      <td>0</td>\n      <td>1</td>\n      <td>1</td>\n      <td>1</td>\n      <td>0</td>\n      <td>1</td>\n      <td>1</td>\n      <td>0.976963</td>\n    </tr>\n    <tr>\n      <th>58</th>\n      <td>2156372</td>\n      <td>1800</td>\n      <td>3.578798</td>\n      <td>1</td>\n      <td>0</td>\n      <td>1</td>\n      <td>1</td>\n      <td>1</td>\n      <td>1</td>\n      <td>1</td>\n      <td>1</td>\n      <td>0.974216</td>\n    </tr>\n    <tr>\n      <th>607</th>\n      <td>19490734</td>\n      <td>1470</td>\n      <td>1.138576</td>\n      <td>1</td>\n      <td>0</td>\n      <td>1</td>\n      <td>1</td>\n      <td>1</td>\n      <td>0</td>\n      <td>1</td>\n      <td>0</td>\n      <td>0.973864</td>\n    </tr>\n    <tr>\n      <th>2598</th>\n      <td>678746686572598499</td>\n      <td>2100</td>\n      <td>2.919098</td>\n      <td>1</td>\n      <td>1</td>\n      <td>1</td>\n      <td>1</td>\n      <td>1</td>\n      <td>0</td>\n      <td>1</td>\n      <td>0</td>\n      <td>0.973835</td>\n    </tr>\n    <tr>\n      <th>1311</th>\n      <td>35744548</td>\n      <td>1800</td>\n      <td>0.655827</td>\n      <td>1</td>\n      <td>0</td>\n      <td>1</td>\n      <td>1</td>\n      <td>1</td>\n      <td>0</td>\n      <td>0</td>\n      <td>1</td>\n      <td>0.973178</td>\n    </tr>\n    <tr>\n      <th>2831</th>\n      <td>775240664166599463</td>\n      <td>1530</td>\n      <td>2.820870</td>\n      <td>1</td>\n      <td>0</td>\n      <td>1</td>\n      <td>1</td>\n      <td>1</td>\n      <td>0</td>\n      <td>1</td>\n      <td>1</td>\n      <td>0.972415</td>\n    </tr>\n  </tbody>\n</table>\n</div>"
     },
     "execution_count": 106,
     "metadata": {},
     "output_type": "execute_result"
    }
   ],
   "source": [
    "from sklearn.preprocessing import StandardScaler\n",
    "\n",
    "# 权重设定\n",
    "amenity_weight = 1 - (weights['price'] + weights['room_type'] + weights['distance'])\n",
    "average_amenity_weight = amenity_weight / len(selected_amenities)\n",
    "\n",
    "weight_vector = [average_amenity_weight] * len(selected_amenities) + [weights['distance'], weights['price'], weights['room_type']]\n",
    "weight_vector = np.array(weight_vector)\n",
    "\n",
    "# 创建user_vector\n",
    "user_vector = np.array([1] * len(selected_amenities) + [0, desired_price, 1])\n",
    "\n",
    "# 特征缩放\n",
    "scaler = StandardScaler()\n",
    "data_vector_scaled = scaler.fit_transform(data_vector)\n",
    "user_vector_scaled = scaler.transform([user_vector])\n",
    "\n",
    "# 加权用户和数据向量\n",
    "user_vector_weighted = user_vector_scaled * weight_vector\n",
    "data_vector = data[selected_amenities + ['distance', 'price', roomtype_col]].values\n",
    "data_vector_weighted = data_vector_scaled * weight_vector\n",
    "\n",
    "# 计算价格偏差\n",
    "def price_penalty(row_price, desired_price):\n",
    "    if row_price < desired_price * 0.5 or row_price > desired_price * 2:\n",
    "        return 0.5\n",
    "    return 1.0\n",
    "\n",
    "def distance_penalty(row_distance):\n",
    "    if row_distance > 5:\n",
    "        return 0.5\n",
    "    return 1.0\n",
    "\n",
    "data['price_penalty'] = data['price'].apply(lambda x: price_penalty(x, desired_price))\n",
    "data['distance_penalty'] = data['distance'].apply(distance_penalty)\n",
    "\n",
    "# 重新计算相似度\n",
    "similarities = cosine_similarity(user_vector_weighted, data_vector_weighted)\n",
    "\n",
    "# 获取得分最高的Top 10房源\n",
    "data['similarity_score'] = similarities[0] * data['price_penalty'] * data['distance_penalty']\n",
    "top_10 = data.nlargest(10, 'similarity_score')\n",
    "\n",
    "columns_to_display = ['id', 'price', 'distance', roomtype_col] + selected_amenities + ['similarity_score']\n",
    "top_10[columns_to_display]\n"
   ],
   "metadata": {
    "collapsed": false,
    "ExecuteTime": {
     "end_time": "2023-10-18T06:23:32.361890Z",
     "start_time": "2023-10-18T06:23:32.321354Z"
    }
   },
   "id": "71464603a0d7799f"
  },
  {
   "cell_type": "code",
   "execution_count": null,
   "outputs": [],
   "source": [],
   "metadata": {
    "collapsed": false
   },
   "id": "f6898d772c18b5f8"
  }
 ],
 "metadata": {
  "kernelspec": {
   "display_name": "Python 3",
   "language": "python",
   "name": "python3"
  },
  "language_info": {
   "codemirror_mode": {
    "name": "ipython",
    "version": 2
   },
   "file_extension": ".py",
   "mimetype": "text/x-python",
   "name": "python",
   "nbconvert_exporter": "python",
   "pygments_lexer": "ipython2",
   "version": "2.7.6"
  }
 },
 "nbformat": 4,
 "nbformat_minor": 5
}
