{
 "cells": [
  {
   "cell_type": "code",
   "execution_count": 1,
   "metadata": {},
   "outputs": [
    {
     "data": {
      "text/html": [
       "<div>\n",
       "<style scoped>\n",
       "    .dataframe tbody tr th:only-of-type {\n",
       "        vertical-align: middle;\n",
       "    }\n",
       "\n",
       "    .dataframe tbody tr th {\n",
       "        vertical-align: top;\n",
       "    }\n",
       "\n",
       "    .dataframe thead th {\n",
       "        text-align: right;\n",
       "    }\n",
       "</style>\n",
       "<table border=\"1\" class=\"dataframe\">\n",
       "  <thead>\n",
       "    <tr style=\"text-align: right;\">\n",
       "      <th></th>\n",
       "      <th>date</th>\n",
       "      <th>day</th>\n",
       "      <th>holiday</th>\n",
       "    </tr>\n",
       "  </thead>\n",
       "  <tbody>\n",
       "    <tr>\n",
       "      <th>0</th>\n",
       "      <td>2020-01-01</td>\n",
       "      <td>Wednesday</td>\n",
       "      <td>New Year's Day</td>\n",
       "    </tr>\n",
       "    <tr>\n",
       "      <th>1</th>\n",
       "      <td>2020-01-25</td>\n",
       "      <td>Saturday\\n</td>\n",
       "      <td>Chinese New Year\\n</td>\n",
       "    </tr>\n",
       "    <tr>\n",
       "      <th>2</th>\n",
       "      <td>2020-01-26</td>\n",
       "      <td>Sunday</td>\n",
       "      <td>Chinese New Year\\n</td>\n",
       "    </tr>\n",
       "    <tr>\n",
       "      <th>3</th>\n",
       "      <td>2020-04-10</td>\n",
       "      <td>Friday</td>\n",
       "      <td>Good Friday</td>\n",
       "    </tr>\n",
       "    <tr>\n",
       "      <th>4</th>\n",
       "      <td>2020-05-01</td>\n",
       "      <td>Friday</td>\n",
       "      <td>Labour Day</td>\n",
       "    </tr>\n",
       "  </tbody>\n",
       "</table>\n",
       "</div>"
      ],
      "text/plain": [
       "         date          day             holiday\n",
       "0  2020-01-01    Wednesday      New Year's Day\n",
       "1  2020-01-25  Saturday\\n   Chinese New Year\\n\n",
       "2  2020-01-26       Sunday  Chinese New Year\\n\n",
       "3  2020-04-10       Friday         Good Friday\n",
       "4  2020-05-01       Friday          Labour Day"
      ]
     },
     "metadata": {},
     "output_type": "display_data"
    },
    {
     "data": {
      "text/html": [
       "<div>\n",
       "<style scoped>\n",
       "    .dataframe tbody tr th:only-of-type {\n",
       "        vertical-align: middle;\n",
       "    }\n",
       "\n",
       "    .dataframe tbody tr th {\n",
       "        vertical-align: top;\n",
       "    }\n",
       "\n",
       "    .dataframe thead th {\n",
       "        text-align: right;\n",
       "    }\n",
       "</style>\n",
       "<table border=\"1\" class=\"dataframe\">\n",
       "  <thead>\n",
       "    <tr style=\"text-align: right;\">\n",
       "      <th></th>\n",
       "      <th>date</th>\n",
       "      <th>day</th>\n",
       "      <th>holiday</th>\n",
       "    </tr>\n",
       "  </thead>\n",
       "  <tbody>\n",
       "    <tr>\n",
       "      <th>0</th>\n",
       "      <td>2021-01-01</td>\n",
       "      <td>Friday</td>\n",
       "      <td>New Year's Day</td>\n",
       "    </tr>\n",
       "    <tr>\n",
       "      <th>1</th>\n",
       "      <td>2021-02-12</td>\n",
       "      <td>Friday</td>\n",
       "      <td>Chinese New Year</td>\n",
       "    </tr>\n",
       "    <tr>\n",
       "      <th>2</th>\n",
       "      <td>2021-02-13</td>\n",
       "      <td>Saturday</td>\n",
       "      <td>Chinese New Year</td>\n",
       "    </tr>\n",
       "    <tr>\n",
       "      <th>3</th>\n",
       "      <td>2021-04-02</td>\n",
       "      <td>Friday</td>\n",
       "      <td>Good Friday</td>\n",
       "    </tr>\n",
       "    <tr>\n",
       "      <th>4</th>\n",
       "      <td>2021-05-01</td>\n",
       "      <td>Saturday</td>\n",
       "      <td>Labour Day</td>\n",
       "    </tr>\n",
       "  </tbody>\n",
       "</table>\n",
       "</div>"
      ],
      "text/plain": [
       "         date       day           holiday\n",
       "0  2021-01-01    Friday    New Year's Day\n",
       "1  2021-02-12    Friday  Chinese New Year\n",
       "2  2021-02-13  Saturday  Chinese New Year\n",
       "3  2021-04-02    Friday       Good Friday\n",
       "4  2021-05-01  Saturday        Labour Day"
      ]
     },
     "metadata": {},
     "output_type": "display_data"
    },
    {
     "data": {
      "text/html": [
       "<div>\n",
       "<style scoped>\n",
       "    .dataframe tbody tr th:only-of-type {\n",
       "        vertical-align: middle;\n",
       "    }\n",
       "\n",
       "    .dataframe tbody tr th {\n",
       "        vertical-align: top;\n",
       "    }\n",
       "\n",
       "    .dataframe thead th {\n",
       "        text-align: right;\n",
       "    }\n",
       "</style>\n",
       "<table border=\"1\" class=\"dataframe\">\n",
       "  <thead>\n",
       "    <tr style=\"text-align: right;\">\n",
       "      <th></th>\n",
       "      <th>date</th>\n",
       "      <th>day</th>\n",
       "      <th>holiday</th>\n",
       "    </tr>\n",
       "  </thead>\n",
       "  <tbody>\n",
       "    <tr>\n",
       "      <th>0</th>\n",
       "      <td>2022-01-01</td>\n",
       "      <td>Saturday</td>\n",
       "      <td>New Year's Day</td>\n",
       "    </tr>\n",
       "    <tr>\n",
       "      <th>1</th>\n",
       "      <td>2022-02-01</td>\n",
       "      <td>Tuesday</td>\n",
       "      <td>Chinese New Year</td>\n",
       "    </tr>\n",
       "    <tr>\n",
       "      <th>2</th>\n",
       "      <td>2022-02-02</td>\n",
       "      <td>Wednesday</td>\n",
       "      <td>Chinese New Year</td>\n",
       "    </tr>\n",
       "    <tr>\n",
       "      <th>3</th>\n",
       "      <td>2022-04-15</td>\n",
       "      <td>Friday</td>\n",
       "      <td>Good Friday</td>\n",
       "    </tr>\n",
       "    <tr>\n",
       "      <th>4</th>\n",
       "      <td>2022-05-01</td>\n",
       "      <td>Sunday</td>\n",
       "      <td>Labour Day</td>\n",
       "    </tr>\n",
       "  </tbody>\n",
       "</table>\n",
       "</div>"
      ],
      "text/plain": [
       "         date        day           holiday\n",
       "0  2022-01-01   Saturday    New Year's Day\n",
       "1  2022-02-01    Tuesday  Chinese New Year\n",
       "2  2022-02-02  Wednesday  Chinese New Year\n",
       "3  2022-04-15     Friday       Good Friday\n",
       "4  2022-05-01     Sunday        Labour Day"
      ]
     },
     "metadata": {},
     "output_type": "display_data"
    },
    {
     "data": {
      "text/html": [
       "<div>\n",
       "<style scoped>\n",
       "    .dataframe tbody tr th:only-of-type {\n",
       "        vertical-align: middle;\n",
       "    }\n",
       "\n",
       "    .dataframe tbody tr th {\n",
       "        vertical-align: top;\n",
       "    }\n",
       "\n",
       "    .dataframe thead th {\n",
       "        text-align: right;\n",
       "    }\n",
       "</style>\n",
       "<table border=\"1\" class=\"dataframe\">\n",
       "  <thead>\n",
       "    <tr style=\"text-align: right;\">\n",
       "      <th></th>\n",
       "      <th>date</th>\n",
       "      <th>day</th>\n",
       "      <th>holiday</th>\n",
       "    </tr>\n",
       "  </thead>\n",
       "  <tbody>\n",
       "    <tr>\n",
       "      <th>0</th>\n",
       "      <td>2023-01-01</td>\n",
       "      <td>Sunday</td>\n",
       "      <td>New Year's Day</td>\n",
       "    </tr>\n",
       "    <tr>\n",
       "      <th>1</th>\n",
       "      <td>2023-01-22</td>\n",
       "      <td>Sunday</td>\n",
       "      <td>Chinese New Year</td>\n",
       "    </tr>\n",
       "    <tr>\n",
       "      <th>2</th>\n",
       "      <td>2023-01-23</td>\n",
       "      <td>Monday</td>\n",
       "      <td>Chinese New Year</td>\n",
       "    </tr>\n",
       "    <tr>\n",
       "      <th>3</th>\n",
       "      <td>2023-04-07</td>\n",
       "      <td>Friday</td>\n",
       "      <td>Good Friday</td>\n",
       "    </tr>\n",
       "    <tr>\n",
       "      <th>4</th>\n",
       "      <td>2023-04-22</td>\n",
       "      <td>Saturday</td>\n",
       "      <td>Hari Raya Puasa</td>\n",
       "    </tr>\n",
       "  </tbody>\n",
       "</table>\n",
       "</div>"
      ],
      "text/plain": [
       "         date       day           holiday\n",
       "0  2023-01-01    Sunday    New Year's Day\n",
       "1  2023-01-22    Sunday  Chinese New Year\n",
       "2  2023-01-23    Monday  Chinese New Year\n",
       "3  2023-04-07    Friday       Good Friday\n",
       "4  2023-04-22  Saturday   Hari Raya Puasa"
      ]
     },
     "metadata": {},
     "output_type": "display_data"
    }
   ],
   "source": [
    "import pandas as pd\n",
    "\n",
    "# 文件路径\n",
    "file_paths = [\n",
    "    \"./dataSource/PublicHolidaysfor2020.csv\",\n",
    "    \"./dataSource/PublicHolidays2021.csv\",\n",
    "    \"./dataSource/PublicHolidaysfor2022.csv\",\n",
    "    \"./dataSource/PublicHolidaysfor2023.csv\"\n",
    "]\n",
    "\n",
    "# 加载并显示每个文件的前几行数据\n",
    "dataframes = []\n",
    "for path in file_paths:\n",
    "    df = pd.read_csv(path)\n",
    "    display(df.head())\n",
    "    dataframes.append(df)\n"
   ]
  },
  {
   "cell_type": "code",
   "execution_count": 2,
   "metadata": {},
   "outputs": [
    {
     "data": {
      "text/plain": [
       "{'Public Holidays 2020': date       object\n",
       " day        object\n",
       " holiday    object\n",
       " dtype: object,\n",
       " 'Public Holidays 2021': date       object\n",
       " day        object\n",
       " holiday    object\n",
       " dtype: object,\n",
       " 'Public Holidays 2022': date       object\n",
       " day        object\n",
       " holiday    object\n",
       " dtype: object,\n",
       " 'Public Holidays 2023': date       object\n",
       " day        object\n",
       " holiday    object\n",
       " dtype: object}"
      ]
     },
     "execution_count": 2,
     "metadata": {},
     "output_type": "execute_result"
    }
   ],
   "source": [
    "# 检查每个文件的列名和数据类型\n",
    "column_info = {}\n",
    "for i, df in enumerate(dataframes, start=2020):\n",
    "    column_info[f\"Public Holidays {i}\"] = df.dtypes\n",
    "\n",
    "column_info\n"
   ]
  },
  {
   "cell_type": "code",
   "execution_count": 3,
   "metadata": {},
   "outputs": [
    {
     "name": "stdout",
     "output_type": "stream",
     "text": [
      "<class 'pandas.core.frame.DataFrame'>\n",
      "RangeIndex: 46 entries, 0 to 45\n",
      "Data columns (total 3 columns):\n",
      " #   Column   Non-Null Count  Dtype \n",
      "---  ------   --------------  ----- \n",
      " 0   date     46 non-null     object\n",
      " 1   day      46 non-null     object\n",
      " 2   holiday  46 non-null     object\n",
      "dtypes: object(3)\n",
      "memory usage: 1.2+ KB\n"
     ]
    },
    {
     "data": {
      "text/plain": [
       "(None,\n",
       "          date          day             holiday\n",
       " 0  2020-01-01    Wednesday      New Year's Day\n",
       " 1  2020-01-25  Saturday\\n   Chinese New Year\\n\n",
       " 2  2020-01-26       Sunday  Chinese New Year\\n\n",
       " 3  2020-04-10       Friday         Good Friday\n",
       " 4  2020-05-01       Friday          Labour Day)"
      ]
     },
     "execution_count": 3,
     "metadata": {},
     "output_type": "execute_result"
    }
   ],
   "source": [
    "# 合并数据框\n",
    "merged_df = pd.concat(dataframes, ignore_index=True)\n",
    "\n",
    "# 显示合并后的数据框的前几行以及信息\n",
    "merged_df_info = merged_df.info()\n",
    "merged_head = merged_df.head()\n",
    "\n",
    "merged_df_info, merged_head\n"
   ]
  },
  {
   "cell_type": "code",
   "execution_count": 4,
   "metadata": {},
   "outputs": [
    {
     "name": "stderr",
     "output_type": "stream",
     "text": [
      "/tmp/ipykernel_158616/2779796801.py:2: FutureWarning: DataFrame.applymap has been deprecated. Use DataFrame.map instead.\n",
      "  merged_df_cleaned = merged_df.applymap(lambda x: x.strip() if isinstance(x, str) else x)\n"
     ]
    },
    {
     "data": {
      "text/plain": [
       "'./dataSource/PublicHolidays_2020_2023.csv'"
      ]
     },
     "execution_count": 4,
     "metadata": {},
     "output_type": "execute_result"
    }
   ],
   "source": [
    "# 清理数据中的换行符\n",
    "merged_df_cleaned = merged_df.applymap(lambda x: x.strip() if isinstance(x, str) else x)\n",
    "\n",
    "# 保存清理后的数据框为 CSV 文件\n",
    "output_file_path = \"./dataSource/PublicHolidays_2020_2023.csv\"\n",
    "merged_df_cleaned.to_csv(output_file_path, index=False)\n",
    "\n",
    "output_file_path\n"
   ]
  }
 ],
 "metadata": {
  "kernelspec": {
   "display_name": "gp",
   "language": "python",
   "name": "python3"
  },
  "language_info": {
   "codemirror_mode": {
    "name": "ipython",
    "version": 3
   },
   "file_extension": ".py",
   "mimetype": "text/x-python",
   "name": "python",
   "nbconvert_exporter": "python",
   "pygments_lexer": "ipython3",
   "version": "3.11.6"
  }
 },
 "nbformat": 4,
 "nbformat_minor": 2
}
