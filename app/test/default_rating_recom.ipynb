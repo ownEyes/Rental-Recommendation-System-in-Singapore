{
 "cells": [
  {
   "cell_type": "code",
   "execution_count": null,
   "metadata": {},
   "outputs": [],
   "source": [
    "import pandas as pd\n",
    "import numpy as np\n",
    "\n",
    "\n",
    "recommend_default_topn=10\n",
    "\n",
    "df = pd.read_csv('processed_data_merged_final_v3.csv')\n",
    "\n",
    "# 据给定的评分数据 rating_data 进行推荐。返回courseID\n",
    "def recommend_default(rating_data):\n",
    "    # 对评分数据进行降序排列，得到了排序后的索引数组，从大到小\n",
    "    sort_idx = (np.argsort(rating_data)[::-1])\n",
    "    # 默认情况下推荐的数量。\n",
    "    sort_course = sort_idx[:recommend_default_topn]\n",
    "    # 将这些索引加1（因为索引通常从0开始，而课程编号从1开始），\n",
    "    # 得到了推荐的课程编号\n",
    "    default_rating = [int(x+1) for x in sort_course]\n",
    "    # 回一个列表，其中包含了被推荐的课程编号。\n",
    "    # 这个列表代表了默认推荐的课程列表，按照评分从高到低排列。\n",
    "    return default_rating"
   ]
  },
  {
   "cell_type": "code",
   "execution_count": null,
   "metadata": {},
   "outputs": [],
   "source": []
  }
 ],
 "metadata": {
  "language_info": {
   "name": "python"
  }
 },
 "nbformat": 4,
 "nbformat_minor": 2
}
